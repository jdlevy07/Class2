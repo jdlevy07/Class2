{
 "cells": [
  {
   "cell_type": "code",
   "execution_count": null,
   "id": "1b3f56fe",
   "metadata": {},
   "outputs": [
    {
     "name": "stdout",
     "output_type": "stream",
     "text": [
      "7\n",
      "data\n",
      "10\n",
      "15\n"
     ]
    }
   ],
   "source": [
    "x = 7\n",
    "y = \"data\"\n",
    "\n",
    "print(x)\n",
    "print(y)\n",
    "\n",
    "my_variable = 10\n",
    "print(my_variable)\n",
    "\n",
    "my_variable += 5 #this does my_variable = my_variable + 5\n",
    "print(my_variable)\n",
    "\n",
    "\n",
    "\n"
   ]
  },
  {
   "cell_type": "markdown",
   "id": "8b3a3547",
   "metadata": {},
   "source": [
    "Working with strings"
   ]
  },
  {
   "cell_type": "code",
   "execution_count": 11,
   "id": "0dae2949",
   "metadata": {},
   "outputs": [
    {
     "name": "stdout",
     "output_type": "stream",
     "text": [
      "What are you studying?\n",
      "Analytics!\n",
      "What are you studying? Analytics!\n",
      "What are you studying? Analytics!\n",
      "What are you studying?\n",
      "Analytics!\n"
     ]
    },
    {
     "data": {
      "text/plain": [
       "str"
      ]
     },
     "execution_count": 11,
     "metadata": {},
     "output_type": "execute_result"
    }
   ],
   "source": [
    "\"I am an MSBA student\"\n",
    "\n",
    "question = \"What are you studying?\"\n",
    "answer = \"Analytics!\"\n",
    "\n",
    "print(question)\n",
    "print(answer)\n",
    "\n",
    "print(question + \" \" + answer) #Concatentation using standard format and adds forced space \n",
    "print(f\"{question} {answer}\") #Concatentation using f-string format \n",
    "\n",
    "###adding a line break \n",
    "print(question + \"\\n\" + answer)\n",
    "\n",
    "type(answer)\n"
   ]
  },
  {
   "cell_type": "code",
   "execution_count": null,
   "id": "0c08f59a",
   "metadata": {},
   "outputs": [
    {
     "data": {
      "text/plain": [
       "10"
      ]
     },
     "execution_count": 12,
     "metadata": {},
     "output_type": "execute_result"
    }
   ],
   "source": [
    "len(answer) #since not saved to variable will be overriden \n",
    "#if running something else so moved to new code segment "
   ]
  },
  {
   "cell_type": "code",
   "execution_count": 16,
   "id": "5d920501",
   "metadata": {},
   "outputs": [
    {
     "data": {
      "text/plain": [
       "'!'"
      ]
     },
     "execution_count": 16,
     "metadata": {},
     "output_type": "execute_result"
    }
   ],
   "source": [
    "### Indexing a string \n",
    "\n",
    "answer[0] #First character \n",
    "answer[2] #Third character\n",
    "answer[9] #Tenth character\n",
    "\n",
    "answer[-1] #Last character"
   ]
  },
  {
   "cell_type": "code",
   "execution_count": null,
   "id": "64ae53f4",
   "metadata": {},
   "outputs": [
    {
     "name": "stdout",
     "output_type": "stream",
     "text": [
      "CT\n"
     ]
    }
   ],
   "source": [
    "course = 'CTBA'\n",
    "\n",
    "len(course)\n",
    "\n",
    "print(course[0:2]) #First two characters (not include last index number 2)\n",
    "\n"
   ]
  },
  {
   "cell_type": "code",
   "execution_count": null,
   "id": "53791e35",
   "metadata": {},
   "outputs": [
    {
     "name": "stdout",
     "output_type": "stream",
     "text": [
      "ANALYTICS!\n"
     ]
    },
    {
     "data": {
      "text/plain": [
       "5"
      ]
     },
     "execution_count": 23,
     "metadata": {},
     "output_type": "execute_result"
    }
   ],
   "source": [
    "#Functions and Methods \n",
    "#built-in functions like input or print \n",
    "#method would be .upper or .lower etc \n",
    "\n",
    "answer_cap = answer.upper() #Convert to uppercase\n",
    "print(answer_cap)\n",
    "\n",
    "answer.lower() #Convert to lowercase \n",
    "\n",
    "answer.find(\"t\") #Find the index of the first occurence of \"t\""
   ]
  },
  {
   "cell_type": "code",
   "execution_count": 26,
   "id": "5996edf2",
   "metadata": {},
   "outputs": [
    {
     "name": "stdout",
     "output_type": "stream",
     "text": [
      "Hello, my name is Julia Levy. I am studying Business Analytics.\n",
      "Hello, my name is Julia Levy. I am studying Business Analytics.\n"
     ]
    }
   ],
   "source": [
    "name = \"Julia Levy\"\n",
    "\n",
    "print(\"Hello, my name is \" + name + \". I am studying Business Analytics.\")\n",
    "print(f\"Hello, my name is {name}. I am studying Business Analytics.\")"
   ]
  },
  {
   "cell_type": "code",
   "execution_count": null,
   "id": "a59f7a10",
   "metadata": {},
   "outputs": [
    {
     "name": "stdout",
     "output_type": "stream",
     "text": [
      "(1, 2, 3, 4, 5)\n"
     ]
    }
   ],
   "source": [
    "##Tuples \n",
    "t1 = (1,2,3,4,5)\n",
    "print(t1)\n",
    "\n",
    "#t1[0] = 11 #Tuples are immutable, so this will give an error\n",
    "#Tuples usually used in dictionaries if want fixed set of values,\n",
    "#read-only data sets, or as a key in a dictionary "
   ]
  },
  {
   "cell_type": "code",
   "execution_count": null,
   "id": "9cd89c3b",
   "metadata": {},
   "outputs": [
    {
     "name": "stdout",
     "output_type": "stream",
     "text": [
      "{'name': 'Julia Levy', 'age': 22, 'city': 'Williamsburg'}\n",
      "Julia Levy\n",
      "{'name': 'Julia Levy', 'age': 22, 'city': 'Williamsburg', 'email': 'jdlevy@wm.edu'}\n"
     ]
    }
   ],
   "source": [
    "###Dictionaries \n",
    "d1 = {\"name\": \"Julia Levy\", \"age\": 22, \"city\": \"Williamsburg\"}\n",
    "print(d1)\n",
    "print(d1[\"name\"]) #make sure key is in quotes if it is a string \n",
    "#and because indexing by looking at text \n",
    "\n",
    "d1[\"email\"] = \"jdlevy@wm.edu\"\n",
    "print(d1)\n"
   ]
  },
  {
   "cell_type": "code",
   "execution_count": null,
   "id": "6a17ee99",
   "metadata": {},
   "outputs": [
    {
     "name": "stdout",
     "output_type": "stream",
     "text": [
      "name : Julia Levy\n",
      "age : 22\n",
      "city : Williamsburg\n",
      "email : jdlevy@wm.edu\n"
     ]
    }
   ],
   "source": [
    "##formatting the dictionary output with a for loop\n",
    "\n",
    "for key,value in d1.items(): #items returns a key,value pair \n",
    "    print(key, \":\", value) #could use f-string format too (use commas not addition)\n",
    "    \n"
   ]
  },
  {
   "cell_type": "code",
   "execution_count": 38,
   "id": "307ce087",
   "metadata": {},
   "outputs": [
    {
     "name": "stdout",
     "output_type": "stream",
     "text": [
      "{'person 1': {'name': 'Julia Levy', 'age': 22, 'city': 'Williamsburg'}, 'person 2': {'name': 'MV Nye', 'age': 23, 'city': 'NYC'}}\n"
     ]
    }
   ],
   "source": [
    "##Dictionary of Dictionaries\n",
    "#outer dictionary and inner dictionary \n",
    "\n",
    "people = {\n",
    "    \"person 1\": {\"name\": \"Julia Levy\", \"age\": 22, \"city\": \"Williamsburg\"},\n",
    "    \"person 2\": {\"name\": \"MV Nye\", \"age\": 23, \"city\": \"NYC\"}\n",
    "}\n",
    "\n",
    "print(people)"
   ]
  },
  {
   "cell_type": "code",
   "execution_count": 41,
   "id": "88fca38f",
   "metadata": {},
   "outputs": [
    {
     "name": "stdout",
     "output_type": "stream",
     "text": [
      "{'A': {'B': 10, 'C': 15}, 'B': {'A': 10, 'C': 20}, 'C': {'A': 15, 'B': 20}}\n"
     ]
    }
   ],
   "source": [
    "distances = {\n",
    "    \"A\":{\"B\": 10, \"C\": 15}, \n",
    "    \"B\":{\"A\": 10, \"C\": 20},\n",
    "    \"C\":{\"A\": 15, \"B\": 20}\n",
    "}\n",
    "\n",
    "print(distances)"
   ]
  },
  {
   "cell_type": "code",
   "execution_count": 51,
   "id": "e227792e",
   "metadata": {},
   "outputs": [
    {
     "name": "stdout",
     "output_type": "stream",
     "text": [
      "{'Bryce': 3.8, 'Mann': 3.6, 'Tai': 3.4}\n",
      "{'student 1': {'name': 'Bryce', 'major': 'Business Analytics', 'gpa': 3.8, 'courses': 4}, 'student 2': {'name': 'Mann', 'major': 'Business Analytics', 'gpa': 3.6, 'courses': 4}, 'student 3': {'name': 'Tai', 'major': 'Business Analytics', 'gpa': 4.0, 'courses': 4}, 'student 4': {'name': 'Conner', 'major': 'Business Analytics', 'gpa': 4.0, 'courses': 4}}\n"
     ]
    }
   ],
   "source": [
    "student_gpa = {\n",
    "    \"Bryce\":3.8,\"Mann\":3.6,\"Tai\":3.4\n",
    "}\n",
    "print(student_gpa)\n",
    "\n",
    "students = {\n",
    "    \"student 1\": {\"name\": \"Bryce\", \"major\": \"Business Analytics\", \"gpa\":3.8, \"courses\": 4},\n",
    "    \"student 2\": {\"name\": \"Mann\", \"major\": \"Business Analytics\", \"gpa\":3.6, \"courses\": 4},\n",
    "    \"student 3\": {\"name\": \"Tai\", \"major\": \"Business Analytics\", \"gpa\":4.0, \"courses\": 4}\n",
    "}\n",
    "students[\"student 4\"] = {\"name\": \"Conner\", \"major\": \"Business Analytics\", \"gpa\":4.0, \"courses\": 4}\n",
    "print(students)"
   ]
  },
  {
   "cell_type": "code",
   "execution_count": 56,
   "id": "dbbaaad1",
   "metadata": {},
   "outputs": [
    {
     "name": "stdout",
     "output_type": "stream",
     "text": [
      "x is greater than 5\n",
      "x is even\n",
      "x is zero\n"
     ]
    }
   ],
   "source": [
    "###If Statements \n",
    "x = 10 \n",
    "if x > 5: \n",
    "    print(\"x is greater than 5\")\n",
    "\n",
    "##If Else Statements \n",
    "x = 4\n",
    "if x % 2 == 0: \n",
    "    print(\"x is even\")\n",
    "else: #note indentation\n",
    "    print(\"x is odd\")\n",
    "    \n",
    "##Working with Elif \n",
    "x = 0 \n",
    "if x > 0: \n",
    "    print(\"x is positive\")\n",
    "elif x == 0: \n",
    "    print(\"x is zero\")\n",
    "else: \n",
    "    print(\"x is negative\")    "
   ]
  },
  {
   "cell_type": "code",
   "execution_count": null,
   "id": "bfbb0035",
   "metadata": {},
   "outputs": [
    {
     "name": "stdout",
     "output_type": "stream",
     "text": [
      "i is  0\n",
      "i is  1\n",
      "i is  2\n",
      "i is  3\n",
      "i is  4\n"
     ]
    }
   ],
   "source": [
    "###for loops with an i and a range function\n",
    "for i in range(5): \n",
    "    print(\"i is \", i)\n",
    "#iterates over every item of the range "
   ]
  },
  {
   "cell_type": "code",
   "execution_count": null,
   "id": "51a83c34",
   "metadata": {},
   "outputs": [
    {
     "name": "stdout",
     "output_type": "stream",
     "text": [
      "0 is even\n",
      "1 is odd\n",
      "2 is even\n",
      "3 is odd\n",
      "4 is even\n"
     ]
    }
   ],
   "source": [
    "###while loop with if statement \n",
    "x = 0 \n",
    "\n",
    "while x<5: \n",
    "    if x % 2 == 0: \n",
    "        print(x, \"is even\")\n",
    "    else: \n",
    "        print(x, \"is odd\")\n",
    "    x += 1 #same thing as count \n",
    "    \n"
   ]
  },
  {
   "cell_type": "markdown",
   "id": "8602d504",
   "metadata": {},
   "source": [
    "Using NumPy to create arrays"
   ]
  },
  {
   "cell_type": "code",
   "execution_count": 74,
   "id": "2dcead9f",
   "metadata": {},
   "outputs": [
    {
     "name": "stdout",
     "output_type": "stream",
     "text": [
      "[1 2 3 4 5]\n",
      "[(1, 2, 3), (4, 5, 6)]\n",
      "[[1 2 3]\n",
      " [4 5 6]]\n",
      "1\n",
      "2\n",
      "3\n",
      "1\n",
      "2\n",
      "3\n",
      "1\n",
      "2\n",
      "3\n",
      "4\n",
      "5\n",
      "2\n",
      "4\n",
      "6\n",
      "8\n",
      "10\n"
     ]
    }
   ],
   "source": [
    "import numpy as np\n",
    "arr1 = np.array([1,2,3,4,5])\n",
    "print(arr1)\n",
    "\n",
    "list2 = [(1,2,3), (4,5,6)]\n",
    "print(list2)\n",
    "\n",
    "arr2 = np.array([(1,2,3),(4,5,6)])\n",
    "print(arr2)\n",
    "\n",
    "list = [1,2,3]\n",
    "arr1 = np.array([1,2,3])\n",
    "for e in list: \n",
    "    print(e)\n",
    "for e in arr1: \n",
    "    print(e)\n",
    "\n",
    "#adding to an array\n",
    "arr1 = np.append(arr1, 4)\n",
    "arr1 = np.append(arr1, [5])\n",
    "for e in arr1: \n",
    "    print(e)\n",
    "\n",
    "#add two arrays \n",
    "arr2 = arr1 + arr1 \n",
    "for e in arr2: \n",
    "    print(e)"
   ]
  }
 ],
 "metadata": {
  "kernelspec": {
   "display_name": "CTBA",
   "language": "python",
   "name": "python3"
  },
  "language_info": {
   "codemirror_mode": {
    "name": "ipython",
    "version": 3
   },
   "file_extension": ".py",
   "mimetype": "text/x-python",
   "name": "python",
   "nbconvert_exporter": "python",
   "pygments_lexer": "ipython3",
   "version": "3.13.5"
  }
 },
 "nbformat": 4,
 "nbformat_minor": 5
}
